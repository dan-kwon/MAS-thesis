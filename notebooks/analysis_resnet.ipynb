{
 "cells": [
  {
   "cell_type": "code",
   "execution_count": 2,
   "metadata": {},
   "outputs": [],
   "source": [
    "import pandas as pd\n",
    "\n",
    "df = pd.read_csv(\"../results/results_resnet_minimal_1.0_0.0.csv\")"
   ]
  },
  {
   "cell_type": "code",
   "execution_count": 4,
   "metadata": {},
   "outputs": [],
   "source": [
    "df = df.drop('Unnamed: 0', axis=1)"
   ]
  },
  {
   "cell_type": "code",
   "execution_count": 5,
   "metadata": {},
   "outputs": [
    {
     "data": {
      "text/html": [
       "<div>\n",
       "<style scoped>\n",
       "    .dataframe tbody tr th:only-of-type {\n",
       "        vertical-align: middle;\n",
       "    }\n",
       "\n",
       "    .dataframe tbody tr th {\n",
       "        vertical-align: top;\n",
       "    }\n",
       "\n",
       "    .dataframe thead th {\n",
       "        text-align: right;\n",
       "    }\n",
       "</style>\n",
       "<table border=\"1\" class=\"dataframe\">\n",
       "  <thead>\n",
       "    <tr style=\"text-align: right;\">\n",
       "      <th></th>\n",
       "      <th>epoch</th>\n",
       "      <th>test_losses</th>\n",
       "      <th>train_losses</th>\n",
       "      <th>test_accuracies</th>\n",
       "      <th>train_accuracies</th>\n",
       "      <th>train_percentage</th>\n",
       "      <th>synth_percentage</th>\n",
       "      <th>transform</th>\n",
       "      <th>sim_num</th>\n",
       "      <th>category</th>\n",
       "    </tr>\n",
       "  </thead>\n",
       "  <tbody>\n",
       "    <tr>\n",
       "      <th>0</th>\n",
       "      <td>0</td>\n",
       "      <td>0.931126</td>\n",
       "      <td>1.006947</td>\n",
       "      <td>0.547656</td>\n",
       "      <td>0.515234</td>\n",
       "      <td>1.0</td>\n",
       "      <td>0.0</td>\n",
       "      <td>minimal</td>\n",
       "      <td>0</td>\n",
       "      <td>minimal_1.0_0.0</td>\n",
       "    </tr>\n",
       "    <tr>\n",
       "      <th>1</th>\n",
       "      <td>0</td>\n",
       "      <td>1.015831</td>\n",
       "      <td>1.004036</td>\n",
       "      <td>0.559375</td>\n",
       "      <td>0.514062</td>\n",
       "      <td>1.0</td>\n",
       "      <td>0.0</td>\n",
       "      <td>minimal</td>\n",
       "      <td>1</td>\n",
       "      <td>minimal_1.0_0.0</td>\n",
       "    </tr>\n",
       "    <tr>\n",
       "      <th>2</th>\n",
       "      <td>0</td>\n",
       "      <td>1.044238</td>\n",
       "      <td>1.013689</td>\n",
       "      <td>0.414844</td>\n",
       "      <td>0.516211</td>\n",
       "      <td>1.0</td>\n",
       "      <td>0.0</td>\n",
       "      <td>minimal</td>\n",
       "      <td>2</td>\n",
       "      <td>minimal_1.0_0.0</td>\n",
       "    </tr>\n",
       "  </tbody>\n",
       "</table>\n",
       "</div>"
      ],
      "text/plain": [
       "   epoch  test_losses  train_losses  test_accuracies  train_accuracies  \\\n",
       "0      0     0.931126      1.006947         0.547656          0.515234   \n",
       "1      0     1.015831      1.004036         0.559375          0.514062   \n",
       "2      0     1.044238      1.013689         0.414844          0.516211   \n",
       "\n",
       "   train_percentage  synth_percentage transform  sim_num         category  \n",
       "0               1.0               0.0   minimal        0  minimal_1.0_0.0  \n",
       "1               1.0               0.0   minimal        1  minimal_1.0_0.0  \n",
       "2               1.0               0.0   minimal        2  minimal_1.0_0.0  "
      ]
     },
     "execution_count": 5,
     "metadata": {},
     "output_type": "execute_result"
    }
   ],
   "source": [
    "df"
   ]
  },
  {
   "cell_type": "code",
   "execution_count": null,
   "metadata": {},
   "outputs": [],
   "source": []
  }
 ],
 "metadata": {
  "kernelspec": {
   "display_name": "venv",
   "language": "python",
   "name": "python3"
  },
  "language_info": {
   "codemirror_mode": {
    "name": "ipython",
    "version": 3
   },
   "file_extension": ".py",
   "mimetype": "text/x-python",
   "name": "python",
   "nbconvert_exporter": "python",
   "pygments_lexer": "ipython3",
   "version": "3.10.15"
  }
 },
 "nbformat": 4,
 "nbformat_minor": 2
}
