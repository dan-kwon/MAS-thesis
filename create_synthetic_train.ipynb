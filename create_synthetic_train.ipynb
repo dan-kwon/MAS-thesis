{
 "cells": [
  {
   "cell_type": "code",
   "execution_count": 7,
   "metadata": {},
   "outputs": [],
   "source": [
    "import os \n",
    "\n",
    "import shutil\n",
    "import random\n",
    "from src.utility.generate_images import generateImages\n"
   ]
  },
  {
   "cell_type": "code",
   "execution_count": 13,
   "metadata": {},
   "outputs": [],
   "source": [
    "train_directory = 'data/alzheimer_mri/train'\n",
    "\n",
    "subfolders = [f for f in os.listdir(train_directory)]\n",
    "\n",
    "for s in subfolders:\n",
    "    files = os.listdir(train_directory + '/' + s)\n",
    "    sample_files = random.sample(files, round(len(files)*0.8))\n",
    "#            for f in files:            \n",
    "#                image_path = train_directory + '/' + subfolder + '/' + f"
   ]
  },
  {
   "cell_type": "code",
   "execution_count": 17,
   "metadata": {},
   "outputs": [
    {
     "data": {
      "text/plain": [
       "'NonDemented_2230.png'"
      ]
     },
     "execution_count": 17,
     "metadata": {},
     "output_type": "execute_result"
    }
   ],
   "source": [
    "generateImages(sample_files[0]"
   ]
  },
  {
   "cell_type": "code",
   "execution_count": null,
   "metadata": {},
   "outputs": [],
   "source": [
    "def main():\n",
    "    # remove any existing images in directory\n",
    "    try:\n",
    "        #shutil.rmtree('data/alzheimer_mri/synthetic')\n",
    "    except:\n",
    "        print(\"directory does not exist\")\n",
    "\n",
    "\n",
    "    # pull real image filepaths and generate a synthetic lookalike\n",
    "    train_directory = 'data/alzheimer_mri/train'\n",
    "\n",
    "    for subfolder in os.listdir(train_directory):\n",
    "        \n",
    "        destination_directory = train_directory.replace('train','synthetic')+'/'+subfolder\n",
    "        os.makedirs(destination_directory, exist_ok=True)\n",
    "        \n",
    "        if subfolder == 'NonDemented':         \n",
    "            from_directory = f\"{train_directory}/{subfolder}\"\n",
    "            to_directory = f\"{destination_directory}\"\n",
    "            copy_tree(from_directory, to_directory)    \n",
    "        \n",
    "        else:\n",
    "            files = os.listdir(train_directory + '/' + subfolder)\n",
    "            for f in files:            \n",
    "                image_path = train_directory + '/' + subfolder + '/' + f\n",
    "                for r in range(3):\n",
    "                    generateImages(image_path, destination_directory)\n",
    "\n",
    "if __name__=='__main__':\n",
    "    main()"
   ]
  }
 ],
 "metadata": {
  "kernelspec": {
   "display_name": "MAS-thesis",
   "language": "python",
   "name": "python3"
  },
  "language_info": {
   "codemirror_mode": {
    "name": "ipython",
    "version": 3
   },
   "file_extension": ".py",
   "mimetype": "text/x-python",
   "name": "python",
   "nbconvert_exporter": "python",
   "pygments_lexer": "ipython3",
   "version": "3.12.1"
  }
 },
 "nbformat": 4,
 "nbformat_minor": 2
}
